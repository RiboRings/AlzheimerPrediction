{
 "cells": [
  {
   "cell_type": "code",
   "execution_count": 1,
   "id": "58eacdbc",
   "metadata": {
    "_cell_guid": "b1076dfc-b9ad-4769-8c92-a6c4dae69d19",
    "_uuid": "8f2839f25d086af736a60e9eeb907d3b93b6e0e5",
    "execution": {
     "iopub.execute_input": "2023-12-15T16:16:38.891238Z",
     "iopub.status.busy": "2023-12-15T16:16:38.890288Z",
     "iopub.status.idle": "2023-12-15T16:16:39.365794Z",
     "shell.execute_reply": "2023-12-15T16:16:39.364606Z"
    },
    "papermill": {
     "duration": 0.48509,
     "end_time": "2023-12-15T16:16:39.369195",
     "exception": false,
     "start_time": "2023-12-15T16:16:38.884105",
     "status": "completed"
    },
    "tags": []
   },
   "outputs": [],
   "source": [
    "import pandas as pd\n",
    "import numpy as np\n",
    "\n",
    "# Split dataframe into features (X) and target (y)\n",
    "def X_y_split(df, target=\"CDR\", drop_cols=[\"Delay\", \"Subject ID\", \"Group\", \"Visit\", \"Cohort\"]):\n",
    "    \n",
    "    X = df.drop(drop_cols, axis=1)\n",
    "    y = X.pop(target)\n",
    "    \n",
    "    return X, y"
   ]
  },
  {
   "cell_type": "code",
   "execution_count": 2,
   "id": "ba7a82df",
   "metadata": {
    "execution": {
     "iopub.execute_input": "2023-12-15T16:16:39.380310Z",
     "iopub.status.busy": "2023-12-15T16:16:39.379611Z",
     "iopub.status.idle": "2023-12-15T16:16:41.422525Z",
     "shell.execute_reply": "2023-12-15T16:16:41.420066Z"
    },
    "papermill": {
     "duration": 2.055062,
     "end_time": "2023-12-15T16:16:41.429152",
     "exception": false,
     "start_time": "2023-12-15T16:16:39.374090",
     "status": "completed"
    },
    "tags": []
   },
   "outputs": [],
   "source": [
    "from sklearn.model_selection import cross_val_score\n",
    "from sklearn.metrics import make_scorer\n",
    "from imblearn.metrics import macro_averaged_mean_absolute_error\n",
    "\n",
    "# Perform model validation based on k-fold cross-validation\n",
    "def validate_model(model, X, y, metric=macro_averaged_mean_absolute_error, **kwargs):\n",
    "    \n",
    "    scorer = make_scorer(metric)\n",
    "    score = cross_val_score(\n",
    "        model,\n",
    "        X, y,\n",
    "        scoring=scorer,\n",
    "        **kwargs\n",
    "    )\n",
    "    \n",
    "    return score"
   ]
  },
  {
   "cell_type": "code",
   "execution_count": 3,
   "id": "9e5cf91f",
   "metadata": {
    "execution": {
     "iopub.execute_input": "2023-12-15T16:16:41.439298Z",
     "iopub.status.busy": "2023-12-15T16:16:41.438604Z",
     "iopub.status.idle": "2023-12-15T16:16:41.446696Z",
     "shell.execute_reply": "2023-12-15T16:16:41.445297Z"
    },
    "papermill": {
     "duration": 0.016816,
     "end_time": "2023-12-15T16:16:41.450079",
     "exception": false,
     "start_time": "2023-12-15T16:16:41.433263",
     "status": "completed"
    },
    "tags": []
   },
   "outputs": [],
   "source": [
    "from sklearn.model_selection import cross_val_predict\n",
    "from sklearn.metrics import confusion_matrix\n",
    "\n",
    "# Generate confusion matrix based on k-fold cross validation\n",
    "def make_confusion_matrix(model, X, y, **kwargs):\n",
    "    \n",
    "    y_pred = cross_val_predict(\n",
    "        model,\n",
    "        X, y,\n",
    "        **kwargs\n",
    "    )\n",
    "    \n",
    "    conf_mat = confusion_matrix(y, y_pred)\n",
    "    \n",
    "    return conf_mat"
   ]
  },
  {
   "cell_type": "code",
   "execution_count": 4,
   "id": "f43a24bc",
   "metadata": {
    "execution": {
     "iopub.execute_input": "2023-12-15T16:16:41.462804Z",
     "iopub.status.busy": "2023-12-15T16:16:41.459592Z",
     "iopub.status.idle": "2023-12-15T16:16:41.471777Z",
     "shell.execute_reply": "2023-12-15T16:16:41.469946Z"
    },
    "papermill": {
     "duration": 0.022734,
     "end_time": "2023-12-15T16:16:41.476369",
     "exception": false,
     "start_time": "2023-12-15T16:16:41.453635",
     "status": "completed"
    },
    "tags": []
   },
   "outputs": [],
   "source": [
    "from sklearn.dummy import DummyClassifier\n",
    "from imblearn.metrics import macro_averaged_mean_absolute_error\n",
    "\n",
    "# Compute baseline performance based on given strategy\n",
    "def baseline_performance(X, y, strategy=\"most_frequent\", metric=macro_averaged_mean_absolute_error):\n",
    "    \n",
    "    dummy_clf = DummyClassifier(strategy=strategy)\n",
    "    dummy_clf.fit(X, y)\n",
    "    y_pred = dummy_clf.predict(X)\n",
    "        \n",
    "    return metric(y, y_pred)"
   ]
  },
  {
   "cell_type": "code",
   "execution_count": 5,
   "id": "2083fefe",
   "metadata": {
    "execution": {
     "iopub.execute_input": "2023-12-15T16:16:41.487594Z",
     "iopub.status.busy": "2023-12-15T16:16:41.486236Z",
     "iopub.status.idle": "2023-12-15T16:16:41.496921Z",
     "shell.execute_reply": "2023-12-15T16:16:41.495354Z"
    },
    "papermill": {
     "duration": 0.019168,
     "end_time": "2023-12-15T16:16:41.499910",
     "exception": false,
     "start_time": "2023-12-15T16:16:41.480742",
     "status": "completed"
    },
    "tags": []
   },
   "outputs": [],
   "source": [
    "from sklearn.cluster import KMeans\n",
    "from sklearn.metrics import silhouette_score\n",
    "\n",
    "# Score K-means clustering with elbow and silhouette scores\n",
    "def score_cluster(X_train, n_clusters):\n",
    "    \n",
    "    kmeans = KMeans(n_clusters=n_clusters, random_state=123).fit(X_train)\n",
    "    elbow = kmeans.inertia_\n",
    "    silhouette = silhouette_score(X_train, kmeans.predict(X_train), random_state=123)\n",
    "    \n",
    "    return [elbow, silhouette]"
   ]
  },
  {
   "cell_type": "code",
   "execution_count": 6,
   "id": "2b28a4bd",
   "metadata": {
    "execution": {
     "iopub.execute_input": "2023-12-15T16:16:41.510431Z",
     "iopub.status.busy": "2023-12-15T16:16:41.509328Z",
     "iopub.status.idle": "2023-12-15T16:16:41.899299Z",
     "shell.execute_reply": "2023-12-15T16:16:41.897746Z"
    },
    "papermill": {
     "duration": 0.399068,
     "end_time": "2023-12-15T16:16:41.902685",
     "exception": false,
     "start_time": "2023-12-15T16:16:41.503617",
     "status": "completed"
    },
    "tags": []
   },
   "outputs": [],
   "source": [
    "from seaborn import scatterplot\n",
    "\n",
    "def plot_pca(red_dims, hue, ax, palette=\"colorblind\", s=15):\n",
    "    \n",
    "    scatterplot(\n",
    "        x=red_dims[:, 0], y=red_dims[:, 1],\n",
    "        hue=hue, palette=palette,\n",
    "        s=s, ax=ax\n",
    "    )"
   ]
  }
 ],
 "metadata": {
  "kaggle": {
   "accelerator": "none",
   "dataSources": [],
   "dockerImageVersionId": 30626,
   "isGpuEnabled": false,
   "isInternetEnabled": true,
   "language": "python",
   "sourceType": "notebook"
  },
  "kernelspec": {
   "display_name": "Python 3",
   "language": "python",
   "name": "python3"
  },
  "language_info": {
   "codemirror_mode": {
    "name": "ipython",
    "version": 3
   },
   "file_extension": ".py",
   "mimetype": "text/x-python",
   "name": "python",
   "nbconvert_exporter": "python",
   "pygments_lexer": "ipython3",
   "version": "3.10.12"
  },
  "papermill": {
   "default_parameters": {},
   "duration": 7.618925,
   "end_time": "2023-12-15T16:16:42.730259",
   "environment_variables": {},
   "exception": null,
   "input_path": "__notebook__.ipynb",
   "output_path": "__notebook__.ipynb",
   "parameters": {},
   "start_time": "2023-12-15T16:16:35.111334",
   "version": "2.4.0"
  }
 },
 "nbformat": 4,
 "nbformat_minor": 5
}
